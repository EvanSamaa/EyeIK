{
 "cells": [
  {
   "cell_type": "code",
   "execution_count": 5,
   "metadata": {},
   "outputs": [],
   "source": [
    "import pickle as pkl\n",
    "import numpy as np\n",
    "import os\n",
    "# import jax\n",
    "from matplotlib import pyplot as plt\n",
    "import json"
   ]
  },
  {
   "cell_type": "code",
   "execution_count": 7,
   "metadata": {},
   "outputs": [],
   "source": [
    "# INPUT_FOLDER = \"/Users/evanpan/Documents/GitHub/EyeIK/Juggling/juggling_TAP_output\"\n",
    "# OUTPUT_FOLDER = \"/Users/evanpan/Documents/GitHub/EyeIK/Juggling/juggling_TAP_output\"\n",
    "INPUT_FOLDER = \"../Juggling/juggling_TAP_output\"\n",
    "OUTPUT_FOLDER = \"./reading_output\"\n",
    "file_name = \"reading_ver1\"\n",
    "\n",
    "# print the root of current exec"
   ]
  },
  {
   "cell_type": "code",
   "execution_count": 8,
   "metadata": {},
   "outputs": [],
   "source": [
    "file_path = os.path.join(INPUT_FOLDER, file_name + \".pkl\")\n",
    "output_path = os.path.join(OUTPUT_FOLDER, file_name + \".pkl\")"
   ]
  },
  {
   "cell_type": "markdown",
   "metadata": {},
   "source": [
    "# generate the 2D position of the gaze when reading a book"
   ]
  },
  {
   "cell_type": "code",
   "execution_count": 9,
   "metadata": {},
   "outputs": [],
   "source": [
    "page_half_width = 10\n",
    "page_height = 10\n",
    "lines_per_page = 10\n",
    "speed_to_finish_row = 1 # this is 2 seconds\n",
    "std_speed = 0.2 # the reading could be fast or slow\n",
    "fps = 30\n",
    "\n",
    "\n",
    "import math\n",
    "# time to finish each page\n",
    "time_per_page = []\n",
    "for i in range(0, lines_per_page):\n",
    "    time_per_page.append(speed_to_finish_row + np.random.normal(0, std_speed))\n",
    "# total time to finish this page\n",
    "total_time = sum(time_per_page)\n",
    "# get some important details\n",
    "height_per_row = page_height / lines_per_page\n",
    "\n",
    "# the time_array\n",
    "time_arr = np.linspace(0, total_time, int(total_time * fps))\n",
    "\n",
    "# get the index of each time_stamp:\n",
    "index_arr = []\n",
    "index_i = 0\n",
    "so_far = 0\n",
    "for i in range(0, time_arr.shape[0]):\n",
    "    if index_i < len(time_per_page):\n",
    "        if time_arr[i] > so_far + time_per_page[index_i]:\n",
    "            so_far += time_per_page[index_i]\n",
    "            index_i += 1\n",
    "    index_arr.append(index_i)\n",
    "    \n",
    "    \n",
    "# get the position of each ball\n",
    "ball_positions = []\n",
    "for i in range(0, lines_per_page):\n",
    "    # generate a trajectory for each row, going from -page_half_width to page_half_width, at a speed of 2 * page_half_width / time_per_page[i]\n",
    "    x_speed = 2 * page_half_width / time_per_page[i]\n",
    "    # starting position\n",
    "    sphere_height = i * height_per_row\n",
    "    starting_x = -page_half_width\n",
    "    # delta time\n",
    "    dt = 1 / fps\n",
    "    \n",
    "    # get the starting time_step\n",
    "    starting_time_step = np.sum(time_per_page[0:i])\n",
    "    starting_time_index = int(math.floor(starting_time_step * fps))\n",
    "    total_time_per_line = time_per_page[i]\n",
    "    \n",
    "    # obtain the trajectory of the ball on that line\n",
    "    trajectory_line_i = np.ones((time_arr.shape[0], 2)) * -page_half_width\n",
    "    trajectory_line_i[:, 0] = -page_half_width\n",
    "    trajectory_line_i[:, 1] = sphere_height\n",
    "    for t in range(0, int(total_time_per_line * fps)):\n",
    "        trajectory_line_i[starting_time_index + t, 0] = starting_x + x_speed * t * dt\n",
    "        trajectory_line_i[starting_time_index + t, 1] = sphere_height\n",
    "    # fill the rest of the trajectory with the last position\n",
    "    for t in range(starting_time_index + int(total_time_per_line * fps), time_arr.shape[0]):\n",
    "        trajectory_line_i[t, 0] = trajectory_line_i[starting_time_index + int(total_time_per_line * fps) - 1, 0]\n",
    "        trajectory_line_i[t, 1] = trajectory_line_i[starting_time_index + int(total_time_per_line * fps) - 1, 1]\n",
    "    ball_positions.append(trajectory_line_i)\n",
    "\n",
    "output_json = {}\n",
    "# make sure each list is a list\n",
    "output_json[\"time\"] = time_arr.tolist()\n",
    "for i in range(0, lines_per_page):\n",
    "    output_json[f\"ball_{i}_positions\"] = (-ball_positions[i]).tolist()\n",
    "output_json[\"look_at_indices\"] = index_arr\n",
    "with open(output_path, 'w') as f:\n",
    "    json.dump(output_json, f)\n",
    "\n",
    "\n",
    "\n",
    "balls = []\n",
    "\n",
    "time = 0\n",
    "row_i = 0 # the vertical position of the gaze on the page\n",
    "col_x = 0 # the horizontal position of the gaze on the page\n",
    "\n",
    "# while row_i < lines_per_page:\n",
    "    \n",
    " \n",
    "\n",
    "\n",
    "\n",
    "\n",
    "\n",
    "\n"
   ]
  },
  {
   "cell_type": "code",
   "execution_count": null,
   "metadata": {},
   "outputs": [],
   "source": []
  },
  {
   "cell_type": "code",
   "execution_count": null,
   "metadata": {},
   "outputs": [],
   "source": []
  }
 ],
 "metadata": {
  "kernelspec": {
   "display_name": "JaliGaze",
   "language": "python",
   "name": "python3"
  },
  "language_info": {
   "codemirror_mode": {
    "name": "ipython",
    "version": 3
   },
   "file_extension": ".py",
   "mimetype": "text/x-python",
   "name": "python",
   "nbconvert_exporter": "python",
   "pygments_lexer": "ipython3",
   "version": "3.10.9"
  }
 },
 "nbformat": 4,
 "nbformat_minor": 2
}
