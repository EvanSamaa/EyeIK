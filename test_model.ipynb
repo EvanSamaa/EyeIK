{
 "cells": [
  {
   "cell_type": "code",
   "execution_count": 2,
   "metadata": {},
   "outputs": [],
   "source": [
    "import sys\n",
    "sys.path.insert(0, '/Users/evanpan/Documents/GitHub/EvansToolBox/Utils')\n",
    "sys.path.insert(0, '/Users/evanpan/Documents/GitHub/Gaze_project')\n",
    "sys.path.insert(0, \"C:/Users/evansamaa/Documents/GitHub/EvansToolBox/Utils\")\n",
    "sys.path.insert(0, \"C:/Users/evansamaa/Documents/GitHub/Gaze_project\")\n",
    "sys.path.insert(0, \"C:/Users/evan1/Documents/GitHub/EvansToolBox/Utils\")\n",
    "sys.path.insert(0, \"C:/Users/evan1/Documents/GitHub/Gaze_project\")\n",
    "from InputStructures import *\n",
    "from EyeCatch_implementation import *\n",
    "import json\n",
    "import numpy as np"
   ]
  },
  {
   "cell_type": "code",
   "execution_count": 4,
   "metadata": {},
   "outputs": [
    {
     "name": "stdout",
     "output_type": "stream",
     "text": [
      "The autoreload extension is already loaded. To reload it, use:\n",
      "  %reload_ext autoreload\n"
     ]
    }
   ],
   "source": [
    "%load_ext autoreload\n",
    "%autoreload 1\n",
    "%aimport EyeCatch_implementation\n",
    "%aimport InputStructures\n",
    "%aimport Speech_Data_util\n",
    "%aimport Signal_processing_utils\n",
    "%aimport Geometry_Util"
   ]
  },
  {
   "cell_type": "markdown",
   "metadata": {},
   "source": [
    "# List of Inputs and Scenes"
   ]
  },
  {
   "cell_type": "code",
   "execution_count": 7,
   "metadata": {},
   "outputs": [],
   "source": [
    "scene_0 = InputStructure(\"F:/MASC/JALI_gaze/Animations/trueman_show/annotated_scene/movie_scene_0.json\")\n",
    "sequence_0 = [[0, 1.800000000000001, 1.960000000000001, 3.8800000000000026, 9.879999999999965, 12.319999999999913, 15.519999999999845, 28.879999999999562, 29.03999999999956, 36.5599999999994, 42.59999999999927], [2, 0, 2, 0, 2, 0, 2, 0, 2, 1, 2]]\n",
    "scene_1 = InputStructure(\"F:/MASC/JALI_gaze/Animations/trueman_show/annotated_scene/movie_scene_1.json\")\n",
    "sequence_1 = [[0, 9.67999999999997, 11.03999999999994, 12.319999999999913, 15.239999999999851, 21.839999999999712, 23.479999999999677, 25.119999999999642, 26.399999999999615, 34.51999999999944, 35.759999999999415], [0, 2, 0, 2, 0, 2, 1, 2, 0, 1, 0]]"
   ]
  },
  {
   "cell_type": "markdown",
   "metadata": {},
   "source": [
    "# Select the Deesired set of inputs"
   ]
  },
  {
   "cell_type": "code",
   "execution_count": 9,
   "metadata": {},
   "outputs": [],
   "source": [
    "input_scene = scene_0\n",
    "input_sequence = sequence_0"
   ]
  },
  {
   "cell_type": "code",
   "execution_count": null,
   "metadata": {},
   "outputs": [],
   "source": [
    "# get target positions from the scene:\n",
    "output_target_positions = []\n",
    "posssss = input_scene.get_all_positions(coordinate_space=\"local\")\n",
    "for i in input_sequence[1]:\n",
    "    output_target_positions.append(posssss[i])\n",
    "\n",
    "EyeCatch_SacccadeGenerator(input_sequence[0], output_target_positions, input_sequence, internal_model, gaze_target_over_time,)"
   ]
  }
 ],
 "metadata": {
  "kernelspec": {
   "display_name": "Visemenet",
   "language": "python",
   "name": "python3"
  },
  "language_info": {
   "codemirror_mode": {
    "name": "ipython",
    "version": 3
   },
   "file_extension": ".py",
   "mimetype": "text/x-python",
   "name": "python",
   "nbconvert_exporter": "python",
   "pygments_lexer": "ipython3",
   "version": "3.10.9"
  }
 },
 "nbformat": 4,
 "nbformat_minor": 2
}
