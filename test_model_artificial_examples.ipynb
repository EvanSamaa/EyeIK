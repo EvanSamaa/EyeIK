{
 "cells": [
  {
   "cell_type": "code",
   "execution_count": 4,
   "metadata": {},
   "outputs": [],
   "source": [
    "import sys\n",
    "sys.path.insert(0, '/Users/evanpan/Documents/GitHub/EvansToolBox/Utils')\n",
    "sys.path.insert(0, '/Users/evanpan/Documents/GitHub/Gaze_project')\n",
    "sys.path.insert(0, \"C:/Users/evansamaa/Documents/GitHub/EvansToolBox/Utils\")\n",
    "sys.path.insert(0, \"C:/Users/evansamaa/Documents/GitHub/Gaze_project\")\n",
    "sys.path.insert(0, \"C:/Users/evan1/Documents/GitHub/EvansToolBox/Utils\")\n",
    "sys.path.insert(0, \"C:/Users/evan1/Documents/GitHub/Gaze_project\")\n",
    "from InputStructures import *\n",
    "from EyeCatch_implementation import *\n",
    "import json\n",
    "import numpy as np\n",
    "import pickle\n",
    "import os"
   ]
  },
  {
   "cell_type": "code",
   "execution_count": 5,
   "metadata": {},
   "outputs": [],
   "source": [
    "%load_ext autoreload\n",
    "%autoreload 1\n",
    "%aimport EyeCatch_implementation\n",
    "%aimport Oyekoya_implementation\n",
    "%aimport Andrist_implementation\n",
    "%aimport Goude_implementation\n",
    "%aimport Proposed_model\n",
    "%aimport Jin_implementation\n",
    "%aimport Itti_implementation\n",
    "%aimport Pejsa_implementation\n",
    "%aimport InputStructures\n",
    "%aimport Speech_Data_util\n",
    "%aimport Signal_processing_utils\n",
    "%aimport Geometry_Util"
   ]
  },
  {
   "cell_type": "code",
   "execution_count": 6,
   "metadata": {},
   "outputs": [],
   "source": [
    "def output_motion(hk, ek, micro_saccade, outpath):\n",
    "    blend_weight = []\n",
    "    for i in range(1, len(hk[0])-1):\n",
    "        velocity = math.sqrt((hk[0][i][1]-hk[0][i-1][1])**2 + (hk[0][i-1][2]-hk[0][i][2])**2)\n",
    "        blend_weight.append([hk[0][i][0], 1 - min(1, velocity/0.75)])\n",
    "    out = {\"eye_frames\": ek,\n",
    "            \"head_frames\": hk,\n",
    "            \"micro_saccade\": micro_saccade,\n",
    "            \"other_neck\": [],\n",
    "            \"envelope\":[], \n",
    "            \"ambient_neck\":[]}\n",
    "            # \"output_times\": output_times, \n",
    "            # \"output_targets\": output_targets\n",
    "    with open(outpath, 'wb') as f:\n",
    "        pickle.dump(out, f, protocol=2)\n",
    "    print(outpath)"
   ]
  },
  {
   "cell_type": "markdown",
   "metadata": {},
   "source": [
    "# List of Inputs and Scenes"
   ]
  },
  {
   "cell_type": "code",
   "execution_count": 7,
   "metadata": {},
   "outputs": [],
   "source": [
    "# drive = \"F:/\"\n",
    "drive = \"E:/\"\n",
    "# scene 0\n",
    "scene_0 = InputStructure(os.path.join(drive, \"MASC/JALI_gaze/Animations/trueman_show/annotated_scene/movie_scene_0.json\"))\n",
    "sequence_0 = [[0, 1.800000000000001, 1.960000000000001, 3.8800000000000026, 9.879999999999965, 12.319999999999913, 15.519999999999845, 28.879999999999562, 29.03999999999956, 36.5599999999994, 42.59999999999927], [2, 0, 2, 0, 2, 0, 2, 0, 2, 1, 2]]\n",
    "\n",
    "# scene 1\n",
    "scene_1 = InputStructure(os.path.join(drive, \"MASC/JALI_gaze/Animations/trueman_show/annotated_scene/movie_scene_1.json\"))\n",
    "sequence_1 = [[0, 9.67999999999997, 11.03999999999994, 12.319999999999913, 15.239999999999851, 21.839999999999712, 23.479999999999677, 25.119999999999642, 26.399999999999615, 34.51999999999944, 35.759999999999415], [0, 2, 0, 2, 0, 2, 1, 2, 0, 1, 0]]\n"
   ]
  },
  {
   "cell_type": "markdown",
   "metadata": {},
   "source": [
    "# Select the Deesired set of inputs"
   ]
  },
  {
   "cell_type": "code",
   "execution_count": 8,
   "metadata": {},
   "outputs": [],
   "source": [
    "OUTPUT_ROOT = \"C:/Users/evansamaa/Documents/GitHub/EyeIK/animation_data\"\n",
    "OUTPUT_ROOT = \"C:/Users/evan1/OneDrive/Documents/GitHub/EyeIK/animation_data\"\n",
    "input_scene = scene_0\n",
    "input_sequence = sequence_0\n",
    "internal_model = InternalModelExact(input_scene)"
   ]
  },
  {
   "cell_type": "code",
   "execution_count": 10,
   "metadata": {},
   "outputs": [
    {
     "name": "stdout",
     "output_type": "stream",
     "text": [
      "C:/Users/evan1/OneDrive/Documents/GitHub/EyeIK/animation_data\\EyeCatch.pkl\n"
     ]
    }
   ],
   "source": [
    "from EyeCatch_implementation import *\n",
    "# get target positions from the scene:\n",
    "output_target_positions = []\n",
    "posssss = input_scene.get_all_positions(coordinate_space=\"local\")\n",
    "for i in input_sequence[1]:\n",
    "    output_target_positions.append(posssss[i])\n",
    "\n",
    "saccade_generator = EyeCatch_SacccadeGenerator(input_sequence[0], output_target_positions, input_sequence[1], internal_model)\n",
    "ek, hk, micro_saccade = saccade_generator.compute()    \n",
    "output_motion(hk, ek, micro_saccade, os.path.join(OUTPUT_ROOT, \"EyeCatch.pkl\"))"
   ]
  },
  {
   "cell_type": "code",
   "execution_count": 50,
   "metadata": {},
   "outputs": [
    {
     "name": "stdout",
     "output_type": "stream",
     "text": [
      "C:/Users/evan1/OneDrive/Documents/GitHub/EyeIK/animation_data\\Oyekoya.pkl\n"
     ]
    }
   ],
   "source": [
    "from Oyekoya_implementation import *\n",
    "# get target positions from the scene:\n",
    "output_target_positions = []\n",
    "posssss = input_scene.get_all_positions(coordinate_space=\"local\")\n",
    "for i in input_sequence[1]:\n",
    "    output_target_positions.append(posssss[i])\n",
    "\n",
    "internal_model = InternalModelExact(input_scene)\n",
    "saccade_generator = Oyekoya_SacccadeGenerator(input_sequence[0], output_target_positions, input_sequence[1], internal_model)\n",
    "ek, hk, micro_saccade = saccade_generator.compute()    \n",
    "output_motion(hk, ek, micro_saccade, os.path.join(OUTPUT_ROOT, \"Oyekoya.pkl\"))"
   ]
  },
  {
   "cell_type": "code",
   "execution_count": 51,
   "metadata": {},
   "outputs": [
    {
     "name": "stdout",
     "output_type": "stream",
     "text": [
      "C:/Users/evan1/OneDrive/Documents/GitHub/EyeIK/animation_data\\Andrist.pkl\n"
     ]
    }
   ],
   "source": [
    "from Andrist_implementation import *\n",
    "# get target positions from the scene:\n",
    "output_target_positions = []\n",
    "posssss = input_scene.get_all_positions(coordinate_space=\"local\")\n",
    "for i in input_sequence[1]:\n",
    "    output_target_positions.append(posssss[i])\n",
    "\n",
    "internal_model = InternalModelExact(input_scene)\n",
    "saccade_generator = Andrist_SacccadeGenerator(input_sequence[0], output_target_positions, input_sequence[1], internal_model, 0)\n",
    "ek, hk, micro_saccade = saccade_generator.compute()    \n",
    "output_motion(hk, ek, micro_saccade, os.path.join(OUTPUT_ROOT, \"Andrist.pkl\"))"
   ]
  },
  {
   "cell_type": "code",
   "execution_count": 52,
   "metadata": {},
   "outputs": [
    {
     "name": "stderr",
     "output_type": "stream",
     "text": [
      "C:\\Users/evan1/Documents/GitHub/EvansToolBox/Utils\\Geometry_Util.py:109: RuntimeWarning: invalid value encountered in arccos\n",
      "  angle = np.arccos(dot_product)\n"
     ]
    },
    {
     "name": "stdout",
     "output_type": "stream",
     "text": [
      "C:/Users/evan1/OneDrive/Documents/GitHub/EyeIK/animation_data\\Goude.pkl\n"
     ]
    },
    {
     "name": "stderr",
     "output_type": "stream",
     "text": [
      "C:\\Users/evan1/Documents/GitHub/EvansToolBox/Utils\\Geometry_Util.py:47: RuntimeWarning: invalid value encountered in divide\n",
      "  out = arr / mag\n"
     ]
    }
   ],
   "source": [
    "from Goude_implementation import *\n",
    "# get target positions from the scene:\n",
    "output_target_positions = []\n",
    "posssss = input_scene.get_all_positions(coordinate_space=\"local\")\n",
    "for i in input_sequence[1]:\n",
    "    output_target_positions.append(posssss[i])\n",
    "    \n",
    "internal_model = InternalModelExact(input_scene)\n",
    "saccade_generator = Goude_SacccadeGenerator(input_sequence[0], input_scene.get_all_positions(), input_sequence[1], internal_model)\n",
    "ek, hk, micro_saccade = saccade_generator.compute()\n",
    "output_motion(hk, ek, micro_saccade, os.path.join(OUTPUT_ROOT, \"Goude.pkl\"))\n",
    "\n"
   ]
  },
  {
   "cell_type": "code",
   "execution_count": 56,
   "metadata": {},
   "outputs": [
    {
     "name": "stderr",
     "output_type": "stream",
     "text": [
      "c:\\Users\\evan1\\anaconda3\\envs\\jaligaze\\lib\\site-packages\\sklearn\\base.py:318: UserWarning: Trying to unpickle estimator GaussianMixture from version 0.24.1 when using version 1.2.2. This might lead to breaking code or invalid results. Use at your own risk. For more info please refer to:\n",
      "https://scikit-learn.org/stable/model_persistence.html#security-maintainability-limitations\n",
      "  warnings.warn(\n"
     ]
    },
    {
     "name": "stdout",
     "output_type": "stream",
     "text": [
      "C:/Users/evan1/OneDrive/Documents/GitHub/EyeIK/animation_data\\Jin.pkl\n"
     ]
    }
   ],
   "source": [
    "from Jin_implementation import *\n",
    "# get target positions from the scene:\n",
    "output_target_positions = []\n",
    "posssss = input_scene.get_all_positions(coordinate_space=\"local\")\n",
    "for i in input_sequence[1]:\n",
    "    output_target_positions.append(posssss[i])\n",
    "    \n",
    "internal_model = InternalModelExact(input_scene)\n",
    "saccade_generator = Jin_SacccadeGenerator(input_sequence[0], output_target_positions, input_sequence[1], internal_model)\n",
    "ek, hk, micro_saccade = saccade_generator.compute()\n",
    "output_motion(hk, ek, micro_saccade, os.path.join(OUTPUT_ROOT, \"Jin.pkl\"))\n",
    "\n"
   ]
  },
  {
   "cell_type": "code",
   "execution_count": 57,
   "metadata": {},
   "outputs": [
    {
     "name": "stdout",
     "output_type": "stream",
     "text": [
      "C:/Users/evan1/OneDrive/Documents/GitHub/EyeIK/animation_data\\Itti.pkl\n"
     ]
    }
   ],
   "source": [
    "from Itti_implementation import *\n",
    "# get target positions from the scene:\n",
    "output_target_positions = []\n",
    "posssss = input_scene.get_all_positions(coordinate_space=\"local\")\n",
    "for i in input_sequence[1]:\n",
    "    output_target_positions.append(posssss[i])\n",
    "    \n",
    "internal_model = InternalModelExact(input_scene)\n",
    "saccade_generator = Itti_SacccadeGenerator(input_sequence[0], output_target_positions, input_sequence[1], internal_model)\n",
    "ek, hk, micro_saccade = saccade_generator.compute()\n",
    "output_motion(hk, ek, micro_saccade, os.path.join(OUTPUT_ROOT, \"Itti.pkl\"))\n",
    "\n"
   ]
  },
  {
   "cell_type": "code",
   "execution_count": 58,
   "metadata": {},
   "outputs": [
    {
     "name": "stdout",
     "output_type": "stream",
     "text": [
      "C:/Users/evan1/OneDrive/Documents/GitHub/EyeIK/animation_data\\Pejsa.pkl\n"
     ]
    }
   ],
   "source": [
    "from Pejsa_implementation import *\n",
    "# get target positions from the scene:\n",
    "output_target_positions = []\n",
    "posssss = input_scene.get_all_positions(coordinate_space=\"local\")\n",
    "for i in input_sequence[1]:\n",
    "    output_target_positions.append(posssss[i])\n",
    "    \n",
    "internal_model = InternalModelExact(input_scene)\n",
    "saccade_generator = Pejsa_SacccadeGenerator(input_sequence[0], output_target_positions, input_sequence[1], internal_model, 1)\n",
    "ek, hk, micro_saccade = saccade_generator.compute()\n",
    "\n",
    "output_motion(hk, ek, micro_saccade, os.path.join(OUTPUT_ROOT, \"Pejsa.pkl\"))\n"
   ]
  },
  {
   "cell_type": "code",
   "execution_count": null,
   "metadata": {},
   "outputs": [],
   "source": [
    "\n"
   ]
  },
  {
   "cell_type": "code",
   "execution_count": null,
   "metadata": {},
   "outputs": [],
   "source": []
  },
  {
   "cell_type": "code",
   "execution_count": null,
   "metadata": {},
   "outputs": [],
   "source": []
  }
 ],
 "metadata": {
  "kernelspec": {
   "display_name": "Visemenet",
   "language": "python",
   "name": "python3"
  },
  "language_info": {
   "codemirror_mode": {
    "name": "ipython",
    "version": 3
   },
   "file_extension": ".py",
   "mimetype": "text/x-python",
   "name": "python",
   "nbconvert_exporter": "python",
   "pygments_lexer": "ipython3",
   "version": "3.10.10"
  }
 },
 "nbformat": 4,
 "nbformat_minor": 2
}
