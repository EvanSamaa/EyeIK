{
 "cells": [
  {
   "cell_type": "code",
   "execution_count": 1,
   "metadata": {},
   "outputs": [],
   "source": [
    "import json\n",
    "import numpy as np\n",
    "import csv\n",
    "import scipy.stats.distributions\n",
    "from scipy.spatial.transform import Rotation\n",
    "import os\n",
    "from matplotlib import pyplot as plt\n",
    "import random\n",
    "import math\n",
    "import csv"
   ]
  },
  {
   "cell_type": "markdown",
   "metadata": {},
   "source": [
    "# Inputs"
   ]
  },
  {
   "cell_type": "code",
   "execution_count": 2,
   "metadata": {},
   "outputs": [],
   "source": [
    "DATAFOLDER = \"/Users/evanpan/Desktop/Experiment_related_files/Masters_paper_recordings\"\n",
    "EXPERIMENTID = \"Experiment_0\""
   ]
  },
  {
   "cell_type": "markdown",
   "metadata": {},
   "source": [
    "# Generate folders"
   ]
  },
  {
   "cell_type": "code",
   "execution_count": 3,
   "metadata": {},
   "outputs": [
    {
     "name": "stdout",
     "output_type": "stream",
     "text": [
      "folders already exist\n"
     ]
    }
   ],
   "source": [
    "OUTPUTROOTFOLDER = os.path.join(*[DATAFOLDER, EXPERIMENTID])\n",
    "OUTPUTFOLDER = os.path.join(*[DATAFOLDER, EXPERIMENTID, \"gazeTargetData\"])\n",
    "COLLECTEDDATAFOLDER = os.path.join(*[DATAFOLDER, EXPERIMENTID, \"collectedData\"])\n",
    "try:\n",
    "    os.mkdir(OUTPUTROOTFOLDER)\n",
    "    os.mkdir(OUTPUTFOLDER)\n",
    "    os.mkdir(COLLECTEDDATAFOLDER)\n",
    "except:\n",
    "    print(\"folders already exist\")"
   ]
  },
  {
   "cell_type": "markdown",
   "metadata": {},
   "source": [
    "# Generate data (calibration)"
   ]
  },
  {
   "cell_type": "code",
   "execution_count": 52,
   "metadata": {},
   "outputs": [],
   "source": [
    "\n",
    "outputJsonCalibration = {\"angle\":[], \"duration\":[], \"isTarget\":[], \"willReturnTo\":[], \"showOnward\":[]}\n",
    "outputJsonRandomCalibration = {\"angle\":[], \"duration\":[], \"isTarget\":[], \"willReturnTo\":[], \"showOnward\":[]}\n",
    "calibrationCount = 1\n",
    "intermediateTargetTime = 1\n",
    "angles = []\n",
    "for i in range(-9, 10):\n",
    "    if i != 0:\n",
    "        angles.append(i*10)\n",
    "\n",
    "for i in range (0, calibrationCount):\n",
    "    random.shuffle(angles)\n",
    "    outputJsonRandomCalibration[\"angle\"].append(0)\n",
    "    outputJsonRandomCalibration[\"duration\"].append(1)\n",
    "    outputJsonRandomCalibration[\"isTarget\"].append(1)\n",
    "    outputJsonRandomCalibration[\"willReturnTo\"].append(1)\n",
    "    outputJsonRandomCalibration[\"showOnward\"].append(0)\n",
    "    for angle in angles:\n",
    "        outputJsonRandomCalibration[\"angle\"].append(angle)\n",
    "        outputJsonRandomCalibration[\"duration\"].append(1)\n",
    "        outputJsonRandomCalibration[\"isTarget\"].append(1)\n",
    "        outputJsonRandomCalibration[\"willReturnTo\"].append(0)\n",
    "        outputJsonRandomCalibration[\"showOnward\"].append(0)\n",
    "        outputJsonRandomCalibration[\"angle\"].append(0)\n",
    "        outputJsonRandomCalibration[\"duration\"].append(1)\n",
    "        outputJsonRandomCalibration[\"isTarget\"].append(1) \n",
    "        outputJsonRandomCalibration[\"willReturnTo\"].append(1)\n",
    "        outputJsonRandomCalibration[\"showOnward\"].append(0)"
   ]
  },
  {
   "cell_type": "code",
   "execution_count": 53,
   "metadata": {},
   "outputs": [],
   "source": [
    "json.dump(outputJsonRandomCalibration, open(os.path.join(*[OUTPUTFOLDER, \"randomCalibration.json\"]), \"w\"))"
   ]
  },
  {
   "cell_type": "markdown",
   "metadata": {},
   "source": [
    "# Condition 1 Double Look"
   ]
  },
  {
   "cell_type": "code",
   "execution_count": 54,
   "metadata": {},
   "outputs": [],
   "source": [
    "outputJsonDoubleLookConditionPilot = {}\n",
    "# for the dwell time with anchor experiment\n",
    "outputJsonDoubleLookConditionPilot = {\"angle\":[], \"duration\":[], \"isTarget\":[], \"willReturnTo\":[], \"showOnward\":[]}\n",
    "all_angle_sets = [[0, 20], [-20, 10], [-20, -50], [40, 10]]\n",
    "all_trials = []\n",
    "for repeat in range(0, 2):\n",
    "    for i in range(0, len(all_angle_sets)):\n",
    "        trial = []\n",
    "        trial.append([all_angle_sets[i][0], 1.5])\n",
    "        trial.append([all_angle_sets[i][1], 0.1])\n",
    "        trial.append([all_angle_sets[i][0], 1])\n",
    "        trial.append([all_angle_sets[i][1], 1.5])\n",
    "        all_trials.append(trial)\n",
    "random.shuffle(all_trials)\n",
    "for i in range(0, len(all_trials)):\n",
    "    for angle in all_trials[i][:3]:\n",
    "        outputJsonDoubleLookConditionPilot[\"angle\"].append(angle[0])\n",
    "        outputJsonDoubleLookConditionPilot[\"duration\"].append(angle[1])\n",
    "        outputJsonDoubleLookConditionPilot[\"isTarget\"].append(1)\n",
    "        outputJsonDoubleLookConditionPilot[\"willReturnTo\"].append(0)\n",
    "        outputJsonDoubleLookConditionPilot[\"showOnward\"].append(1)\n",
    "    for angle in all_trials[i][3:]:\n",
    "        outputJsonDoubleLookConditionPilot[\"angle\"].append(angle[0])\n",
    "        outputJsonDoubleLookConditionPilot[\"duration\"].append(angle[1])\n",
    "        outputJsonDoubleLookConditionPilot[\"isTarget\"].append(1)\n",
    "        outputJsonDoubleLookConditionPilot[\"willReturnTo\"].append(0)\n",
    "        outputJsonDoubleLookConditionPilot[\"showOnward\"].append(0)\n",
    "\n",
    "json.dump(outputJsonDoubleLookConditionPilot, open(os.path.join(*[OUTPUTFOLDER, \"double_look_condition_pilot.json\"]), \"w\"))"
   ]
  },
  {
   "cell_type": "markdown",
   "metadata": {},
   "source": [
    "# Condition 2 back and forth"
   ]
  },
  {
   "cell_type": "code",
   "execution_count": 55,
   "metadata": {},
   "outputs": [
    {
     "name": "stdout",
     "output_type": "stream",
     "text": [
      "[30, 50, 10, 50, 10, 50, 10, 50, 10, 50, 10, 20, 50, -10, 50, -10, 50, -10, 50, -10, 50, -10, 0, 20, -20, 20, -20, 20, -20, 20, -20, 20, -20, 20, 30, 10, 30, 10, 30, 10, 30, 10, 30, 10, 30, 50, 10, 50, 10, 50, 10, 50, 10, 50, 10, 20, 50, -10, 50, -10, 50, -10, 50, -10, 50, -10, 0, 20, -20, 20, -20, 20, -20, 20, -20, 20, -20, 20, 30, 10, 30, 10, 30, 10, 30, 10, 30, 10, 30, 50, 10, 50, 10, 50, 10, 50, 10, 50, 10, 20, 50, -10, 50, -10, 50, -10, 50, -10, 50, -10, 0, 20, -20, 20, -20, 20, -20, 20, -20, 20, -20, 20, 30, 10, 30, 10, 30, 10, 30, 10, 30, 10, 30, 50, 10, 50, 10, 50, 10, 50, 10, 50, 10, 20, 50, -10, 50, -10, 50, -10, 50, -10, 50, -10, 0, 20, -20, 20, -20, 20, -20, 20, -20, 20, -20, 20, 30, 10, 30, 10, 30, 10, 30, 10, 30, 10]\n"
     ]
    }
   ],
   "source": [
    "# for the dwell time with anchor experiment\n",
    "dwell_times = [0.1, 0.5]\n",
    "target_angle_counts = 30\n",
    "target_angle_list = [[30, 20], [20, 30], [0, 20], [20, 10]]\n",
    "outputJsonDireChangeConditionPilot = {\"angle\":[], \"duration\":[], \"isTarget\":[], \"willReturnTo\":[], \"showOnward\":[]}\n",
    "angle_list = []\n",
    "signn = 1\n",
    "for rep in range(0, 2):\n",
    "    for i in range(0, len(dwell_times)):\n",
    "        for k in range(0, len(target_angle_list)):\n",
    "            angle_list.append([[target_angle_list[k][0], 1.5]])\n",
    "            for j in range(0, target_angle_counts):            \n",
    "                angle_list[-1].append([target_angle_list[k][0] + signn * target_angle_list[k][1], dwell_times[i]])\n",
    "                signn = -signn\n",
    "output_angle_list = []\n",
    "for i in range(0, len(angle_list)):\n",
    "    for a in range(0, len(angle_list[i])):\n",
    "        output_angle_list.append([angle_list[i][a][0], angle_list[i][a][1], 1, 0, 0])\n",
    "\n",
    "\n",
    "for i in range(0, len(output_angle_list)):\n",
    "    outputJsonDireChangeConditionPilot[\"angle\"].append(output_angle_list[i][0])\n",
    "    outputJsonDireChangeConditionPilot[\"duration\"].append(output_angle_list[i][1])\n",
    "    outputJsonDireChangeConditionPilot[\"isTarget\"].append(output_angle_list[i][2])\n",
    "    outputJsonDireChangeConditionPilot[\"willReturnTo\"].append(output_angle_list[i][3])\n",
    "    outputJsonDireChangeConditionPilot[\"showOnward\"].append(output_angle_list[i][4])\n",
    "print(outputJsonDireChangeConditionPilot[\"angle\"])\n",
    "json.dump(outputJsonDireChangeConditionPilot, open(os.path.join(*[OUTPUTFOLDER, \"tennis_condition_pilot.json\"]), \"w\"))"
   ]
  },
  {
   "cell_type": "code",
   "execution_count": 56,
   "metadata": {},
   "outputs": [
    {
     "name": "stdout",
     "output_type": "stream",
     "text": [
      "72.0\n",
      "32.8\n"
     ]
    }
   ],
   "source": [
    "print(np.sum(outputJsonDireChangeConditionPilot[\"duration\"]))\n",
    "print(np.sum(outputJsonDoubleLookConditionPilot[\"duration\"]))"
   ]
  },
  {
   "cell_type": "markdown",
   "metadata": {},
   "source": [
    "# Condition 3 onwards"
   ]
  },
  {
   "cell_type": "code",
   "execution_count": 57,
   "metadata": {},
   "outputs": [],
   "source": [
    "outputJsonOnWardConditionPilot = {\"angle\":[], \"duration\":[], \"isTarget\":[], \"willReturnTo\":[], \"showOnward\":[]}\n",
    "dwell_times = [0.1, 0.5]\n",
    "# get a series of angles:\n",
    "angles = [[0, 20, 30], [0, -20, -40]] # start in midline, then go away from midline\n",
    "angles += [[-20, 20, 50], [20, -20, -60]] # start on oneside, then cross the midline, and go far\n",
    "angles += [[20, -10, -20], [-20, 0, 10]] # start on oneside, then cross the midline, and stay closs to midline\n",
    "angles += [[50, 30, 10], [-50, -20, -10]] # start on oneside, do not cross the midline\n",
    "angles += [[30, 10, -20], [-40, -10, 20]] # start on oneside, cross the midline\n",
    "\n",
    "all_gaze_targets = []\n",
    "# define dwell times\n",
    "for t in dwell_times:\n",
    "    for i in range(len(angles)):\n",
    "        all_gaze_targets.append([angles[i][0], 1.5])\n",
    "        all_gaze_targets.append([angles[i][1], t])\n",
    "        all_gaze_targets.append([angles[i][2], 1.5])\n",
    "\n",
    "\n",
    "for i in range(0, len(all_gaze_targets)):\n",
    "    if (i+1)%3 == 0:\n",
    "        outputJsonOnWardConditionPilot[\"angle\"].append(all_gaze_targets[i][0])\n",
    "        outputJsonOnWardConditionPilot[\"duration\"].append(all_gaze_targets[i][1])\n",
    "        outputJsonOnWardConditionPilot[\"isTarget\"].append(1)\n",
    "        outputJsonOnWardConditionPilot[\"willReturnTo\"].append(0)\n",
    "        outputJsonOnWardConditionPilot[\"showOnward\"].append(0)\n",
    "    else:\n",
    "        outputJsonOnWardConditionPilot[\"angle\"].append(all_gaze_targets[i][0])\n",
    "        outputJsonOnWardConditionPilot[\"duration\"].append(all_gaze_targets[i][1])\n",
    "        outputJsonOnWardConditionPilot[\"isTarget\"].append(1)\n",
    "        outputJsonOnWardConditionPilot[\"willReturnTo\"].append(0)\n",
    "        outputJsonOnWardConditionPilot[\"showOnward\"].append(1)\n",
    "\n",
    "json.dump(outputJsonOnWardConditionPilot, open(os.path.join(*[OUTPUTFOLDER, \"onward_condition_pilot.json\"]), \"w\"))"
   ]
  },
  {
   "cell_type": "markdown",
   "metadata": {},
   "source": [
    "# Random Conditions"
   ]
  },
  {
   "cell_type": "code",
   "execution_count": 67,
   "metadata": {},
   "outputs": [
    {
     "name": "stdout",
     "output_type": "stream",
     "text": [
      "[[0, 1.5], [40, 1.5], [20.0, 0.1], [60.0, 0.1], [20.0, 0.1], [60.0, 0.1], [20.0, 0.1], [60.0, 0.1], [20.0, 0.1], [60.0, 0.1], [20.0, 0.1], [60.0, 0.1], [40, 1.5], [20, 0.2], [10, 1.5], [-10.0, 0.1], [30.0, 0.1], [-10.0, 0.1], [30.0, 0.1], [-10.0, 0.1], [30.0, 0.1], [-10.0, 0.1], [30.0, 0.1], [-10.0, 0.1], [30.0, 0.1], [10, 1.5], [30, 0.2], [-30, 1.5], [-70.0, 0.1], [10.0, 0.1], [-70.0, 0.1], [10.0, 0.1], [-70.0, 0.1], [10.0, 0.1], [-70.0, 0.1], [10.0, 0.1], [-70.0, 0.1], [10.0, 0.1], [-30, 1.5], [60, 0.2], [-40, 0.2], [-60, 0.1], [-90, 1.5], [-40, 1.5], [-80.0, 0.1], [0.0, 0.1], [-80.0, 0.1], [0.0, 0.1], [-80.0, 0.1], [0.0, 0.1], [-80.0, 0.1], [0.0, 0.1], [-80.0, 0.1], [0.0, 0.1], [-40, 1.5], [30, 1.5], [-10.0, 0.1], [70.0, 0.1], [-10.0, 0.1], [70.0, 0.1], [-10.0, 0.1], [70.0, 0.1], [-10.0, 0.1], [70.0, 0.1], [-10.0, 0.1], [70.0, 0.1], [30, 1.5]]\n"
     ]
    }
   ],
   "source": [
    "count = 10\n",
    "# generate a mix of 4 conditions\n",
    "angle_with_time = [[0, 1.5]]\n",
    "for i in range(0, count):\n",
    "    cond = random.randint(0, 3)\n",
    "    prev_angle = angle_with_time[-1][0]\n",
    "    if cond == 0: # just add an angle\n",
    "        while True:\n",
    "            angle = random.randint(-6, 6) * 10\n",
    "            if angle == prev_angle:\n",
    "                pass\n",
    "            else:\n",
    "                angles.append(angle)\n",
    "                break\n",
    "        angle_with_time.append([angle, 0.2])\n",
    "    elif cond == 1: # do a double look\n",
    "        while True:\n",
    "            angle = random.randint(-3, 3) * 10\n",
    "            if angle == prev_angle:\n",
    "                pass\n",
    "            else:\n",
    "                angles.append(angle)\n",
    "                break\n",
    "\n",
    "        angle_with_time.append([angle, 0.1])\n",
    "        angle_with_time.append([prev_angle, 1])\n",
    "        angle_with_time.append([angle, 1.5])\n",
    "    elif cond == 2:\n",
    "        while True:\n",
    "            angle = random.randint(-4, 4) * 10\n",
    "            if angle == prev_angle:\n",
    "                pass\n",
    "            else:\n",
    "                angles.append(angle)\n",
    "                break\n",
    "        angle_with_time.append([angle, 1.5])\n",
    "        sign = (random.randint(0, 1)/2 - 1) / 0.5\n",
    "        for i in range(0, 10):\n",
    "            angle_with_time.append([angle+sign * 20, 0.1])\n",
    "            sign = -sign\n",
    "        angle_with_time.append([angle, 1.5])\n",
    "    elif cond == 3:\n",
    "        while True:\n",
    "            angle = random.randint(-6, 6) * 10\n",
    "            if angle == prev_angle:\n",
    "                pass\n",
    "            else:\n",
    "                angles.append(angle)\n",
    "                break\n",
    "        angle_with_time.append([angle, 0.1])\n",
    "        angle_with_time.append([angle + random.randint(1, 3) * 10 * np.sign(angle - prev_angle), 1.5])\n",
    "# output\n",
    "print(angle_with_time)\n",
    "outputJsonRandomCondition = {\"angle\":[], \"duration\":[], \"isTarget\":[], \"willReturnTo\":[], \"showOnward\":[]}\n",
    "for i in range(0, len(angle_with_time)):\n",
    "    if i == len(angle_with_time) - 1:\n",
    "        outputJsonRandomCondition[\"angle\"].append(float(angle_with_time[i][0]))\n",
    "        outputJsonRandomCondition[\"duration\"].append(float(angle_with_time[i][1]))\n",
    "        outputJsonRandomCondition[\"isTarget\"].append(1)\n",
    "        outputJsonRandomCondition[\"willReturnTo\"].append(0)\n",
    "        outputJsonRandomCondition[\"showOnward\"].append(0)\n",
    "    else:\n",
    "        outputJsonRandomCondition[\"angle\"].append(float(angle_with_time[i][0]))\n",
    "        outputJsonRandomCondition[\"duration\"].append(float(angle_with_time[i][1]))\n",
    "        outputJsonRandomCondition[\"isTarget\"].append(1)\n",
    "        outputJsonRandomCondition[\"willReturnTo\"].append(0)\n",
    "        outputJsonRandomCondition[\"showOnward\"].append(1)\n",
    "json.dump(outputJsonRandomCondition, open(os.path.join(*[OUTPUTFOLDER, \"random_condition.json\"]), \"w\"))\n",
    "\n"
   ]
  },
  {
   "cell_type": "code",
   "execution_count": 68,
   "metadata": {},
   "outputs": [
    {
     "name": "stdout",
     "output_type": "stream",
     "text": [
      "67\n"
     ]
    }
   ],
   "source": [
    "print(len(outputJsonRandomCondition[\"angle\"]))"
   ]
  },
  {
   "cell_type": "code",
   "execution_count": null,
   "metadata": {},
   "outputs": [],
   "source": []
  }
 ],
 "metadata": {
  "kernelspec": {
   "display_name": "mediapipe",
   "language": "python",
   "name": "python3"
  },
  "language_info": {
   "codemirror_mode": {
    "name": "ipython",
    "version": 3
   },
   "file_extension": ".py",
   "mimetype": "text/x-python",
   "name": "python",
   "nbconvert_exporter": "python",
   "pygments_lexer": "ipython3",
   "version": "3.10.10"
  },
  "orig_nbformat": 4
 },
 "nbformat": 4,
 "nbformat_minor": 2
}
